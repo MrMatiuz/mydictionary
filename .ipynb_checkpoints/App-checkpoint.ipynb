{
 "cells": [
  {
   "cell_type": "code",
   "execution_count": 4,
   "metadata": {},
   "outputs": [],
   "source": [
    "import numpy as np\n",
    "import pandas as pd\n",
    "import random\n",
    "import time\n",
    "\n",
    "import csv\n",
    "import os\n",
    "# import keyboard"
   ]
  },
  {
   "cell_type": "code",
   "execution_count": 5,
   "metadata": {},
   "outputs": [],
   "source": [
    "class App:\n",
    "    def __init__(self, name):\n",
    "        self.name = name\n",
    "        self.df = None\n",
    "        self.activities_params = [\n",
    "            'id'\n",
    "            ,'Success'\n",
    "            ,'Elapsed_time'\n",
    "        ]\n",
    "        self.client_activities = []\n",
    "    \n",
    "    def read_file(self):\n",
    "        '''\n",
    "        Пока не будем работать с базой, будем брать весь датафрейм и его менять,\n",
    "        а потом просто перезаливать базу. Позже реализовать алгоритм, который будет выборочно либо добавлять,\n",
    "        либо перезаписывать данные по конекретным колонкам\n",
    "        '''\n",
    "        self.df = pd.read_excel(self.name)\n",
    "\n",
    "        self.df['Word'] = self.df['Word'].apply(lambda x: x.capitalize())\n",
    "        self.df['Translation'] = self.df['Translation'].apply(lambda x: x.capitalize())\n",
    "        self.df.fillna(0, inplace=True)\n",
    "\n",
    "\n",
    "    def push_new_word(self):\n",
    "        word = input(\"Enter word: \")\n",
    "        translation = input(\"Enter translation: \")\n",
    "\n",
    "        \n",
    "    def get_word_and_translation(self):\n",
    "        word_and_translation = self.df.sample(n=1)\n",
    "        indx = word_and_translation.index\n",
    "        \n",
    "        return [\n",
    "            word_and_translation['id'].values[0]\n",
    "            ,word_and_translation['Word'].values[0]\n",
    "            ,word_and_translation['Translation'].values[0]\n",
    "        ]\n",
    "    \n",
    "    \n",
    "    def check_if_answer_was_correct(self, question):\n",
    "        answer = input(f\"{question} (y/n): \")\n",
    "        if answer == 'y':\n",
    "            return True\n",
    "        elif answer == 'n':\n",
    "            return False\n",
    "        else:\n",
    "            print(f\"Didn't get your answer '{answer}'. Try agane. \", end=\"\")\n",
    "            return self.check_if_answer_was_correct(question)\n",
    "    \n",
    "    \n",
    "    def check_word(self, inverse=False):\n",
    "        activity = dict(zip(\n",
    "            self.activities_params\n",
    "            ,[np.nan]*len(self.activities_params)\n",
    "        ))\n",
    "        \n",
    "        word_and_translation = self.get_word_and_translation()\n",
    "        indx = word_and_translation[0]\n",
    "        if inverse == True:\n",
    "            word, translation = word_and_translation[1::-1]\n",
    "        elif inverse == False:\n",
    "            word, translation = word_and_translation[1::]\n",
    "        else:\n",
    "            raise TypeError(\"Only booleans are allowed in inverse\")\n",
    "            \n",
    "        print(f\"Word is '{translation}'.\\nWhat is its translation? To see translation press Enter.\")\n",
    "        start = time.time()\n",
    "        while True:\n",
    "            check_if_press_enter = input()\n",
    "            break\n",
    "        print(f\"Translation is '{word}'.\", end=' ')\n",
    "        end = time.time()\n",
    "        elapsed_time = end - start # time to answer the question\n",
    "        \n",
    "        answer = self.check_if_answer_was_correct(question='Was your answer correct?')\n",
    "        \n",
    "        activity['id'] = indx\n",
    "        activity['Success'] = answer\n",
    "        activity['Elapsed_time'] = elapsed_time\n",
    "        \n",
    "        return activity\n",
    "\n",
    "#         # Correstion accuracy metric\n",
    "#         if answer == True:\n",
    "#             self.df.loc[indx, 'TriesNum'] += 1\n",
    "#             self.df.loc[indx, 'SuccessesNum'] += 1\n",
    "#         elif answer == False:\n",
    "#             self.df.loc[indx, 'TriesNum'] += 1\n",
    "#         self.df.loc[indx, 'Probability'] = 1 - self.df.loc[indx, 'SuccessesNum'] / self.df.loc[indx, 'TriesNum']\n",
    "                \n",
    "#         # Correction distibution params\n",
    "#         self.df.loc[indx, 'MeanTime'] = (\n",
    "#             (self.df.loc[indx, 'MeanTime'] * (self.df.loc[indx, 'TriesNum'] - 1) + elapsed_time) \\\n",
    "#             / self.df.loc[indx, 'TriesNum']\n",
    "#         )     \n",
    "#         if elapsed_time > self.df.loc[indx, 'MaxTime'].values[0]:\n",
    "#             self.df.loc[indx, 'MaxTime'] = elapsed_time\n",
    "#         elif elapsed_time < self.df.loc[indx, 'MinTime'].values[0]:\n",
    "#             self.df.loc[indx, 'MinTime'] = elapsed_time\n",
    "            \n",
    "    \n",
    "    def check_your_vocabulary(self):\n",
    "        print(f\"Let's start training!\")\n",
    "        \n",
    "        while True:\n",
    "            activity = self.check_word()\n",
    "            self.client_activities += [activity]\n",
    "            answer = self.check_if_answer_was_correct(question='Continue?')\n",
    "            if answer == False:\n",
    "                break\n",
    "        self.write_user_activities_logs(self.client_activities)\n",
    "\n",
    "    \n",
    "    def write_user_activities_logs(self, client_activities, file_name ='user_activities_logs.csv'):\n",
    "        isExist = os.path.exists('user_activities_logs.csv')\n",
    "        \n",
    "        with open(file_name, 'a') as f:\n",
    "            writer = csv.DictWriter(f, fieldnames=self.activities_params)\n",
    "            if isExist == False:\n",
    "                writer.writeheader()\n",
    "            \n",
    "            for row in client_activities:\n",
    "                writer.writerow(row)\n",
    "                \n",
    "            f.close()\n",
    "            \n",
    "    \n",
    "    def save_file(self):\n",
    "        self.df.to_excel(self.name)"
   ]
  },
  {
   "cell_type": "code",
   "execution_count": 3,
   "metadata": {
    "collapsed": true
   },
   "outputs": [
    {
     "name": "stdout",
     "output_type": "stream",
     "text": [
      "Let's start training!\n",
      "Word is 'В общем, в целом'.\n",
      "What is its translation? To see translation press Enter.\n"
     ]
    },
    {
     "ename": "KeyboardInterrupt",
     "evalue": "",
     "output_type": "error",
     "traceback": [
      "\u001b[0;31m---------------------------------------------------------------------------\u001b[0m",
      "\u001b[0;31mKeyboardInterrupt\u001b[0m                         Traceback (most recent call last)",
      "\u001b[0;32m~/opt/anaconda3/lib/python3.7/site-packages/ipykernel/kernelbase.py\u001b[0m in \u001b[0;36m_input_request\u001b[0;34m(self, prompt, ident, parent, password)\u001b[0m\n\u001b[1;32m    883\u001b[0m             \u001b[0;32mtry\u001b[0m\u001b[0;34m:\u001b[0m\u001b[0;34m\u001b[0m\u001b[0;34m\u001b[0m\u001b[0m\n\u001b[0;32m--> 884\u001b[0;31m                 \u001b[0mident\u001b[0m\u001b[0;34m,\u001b[0m \u001b[0mreply\u001b[0m \u001b[0;34m=\u001b[0m \u001b[0mself\u001b[0m\u001b[0;34m.\u001b[0m\u001b[0msession\u001b[0m\u001b[0;34m.\u001b[0m\u001b[0mrecv\u001b[0m\u001b[0;34m(\u001b[0m\u001b[0mself\u001b[0m\u001b[0;34m.\u001b[0m\u001b[0mstdin_socket\u001b[0m\u001b[0;34m,\u001b[0m \u001b[0;36m0\u001b[0m\u001b[0;34m)\u001b[0m\u001b[0;34m\u001b[0m\u001b[0;34m\u001b[0m\u001b[0m\n\u001b[0m\u001b[1;32m    885\u001b[0m             \u001b[0;32mexcept\u001b[0m \u001b[0mException\u001b[0m\u001b[0;34m:\u001b[0m\u001b[0;34m\u001b[0m\u001b[0;34m\u001b[0m\u001b[0m\n",
      "\u001b[0;32m~/opt/anaconda3/lib/python3.7/site-packages/jupyter_client/session.py\u001b[0m in \u001b[0;36mrecv\u001b[0;34m(self, socket, mode, content, copy)\u001b[0m\n\u001b[1;32m    802\u001b[0m         \u001b[0;32mtry\u001b[0m\u001b[0;34m:\u001b[0m\u001b[0;34m\u001b[0m\u001b[0;34m\u001b[0m\u001b[0m\n\u001b[0;32m--> 803\u001b[0;31m             \u001b[0mmsg_list\u001b[0m \u001b[0;34m=\u001b[0m \u001b[0msocket\u001b[0m\u001b[0;34m.\u001b[0m\u001b[0mrecv_multipart\u001b[0m\u001b[0;34m(\u001b[0m\u001b[0mmode\u001b[0m\u001b[0;34m,\u001b[0m \u001b[0mcopy\u001b[0m\u001b[0;34m=\u001b[0m\u001b[0mcopy\u001b[0m\u001b[0;34m)\u001b[0m\u001b[0;34m\u001b[0m\u001b[0;34m\u001b[0m\u001b[0m\n\u001b[0m\u001b[1;32m    804\u001b[0m         \u001b[0;32mexcept\u001b[0m \u001b[0mzmq\u001b[0m\u001b[0;34m.\u001b[0m\u001b[0mZMQError\u001b[0m \u001b[0;32mas\u001b[0m \u001b[0me\u001b[0m\u001b[0;34m:\u001b[0m\u001b[0;34m\u001b[0m\u001b[0;34m\u001b[0m\u001b[0m\n",
      "\u001b[0;32m~/opt/anaconda3/lib/python3.7/site-packages/zmq/sugar/socket.py\u001b[0m in \u001b[0;36mrecv_multipart\u001b[0;34m(self, flags, copy, track)\u001b[0m\n\u001b[1;32m    474\u001b[0m         \"\"\"\n\u001b[0;32m--> 475\u001b[0;31m         \u001b[0mparts\u001b[0m \u001b[0;34m=\u001b[0m \u001b[0;34m[\u001b[0m\u001b[0mself\u001b[0m\u001b[0;34m.\u001b[0m\u001b[0mrecv\u001b[0m\u001b[0;34m(\u001b[0m\u001b[0mflags\u001b[0m\u001b[0;34m,\u001b[0m \u001b[0mcopy\u001b[0m\u001b[0;34m=\u001b[0m\u001b[0mcopy\u001b[0m\u001b[0;34m,\u001b[0m \u001b[0mtrack\u001b[0m\u001b[0;34m=\u001b[0m\u001b[0mtrack\u001b[0m\u001b[0;34m)\u001b[0m\u001b[0;34m]\u001b[0m\u001b[0;34m\u001b[0m\u001b[0;34m\u001b[0m\u001b[0m\n\u001b[0m\u001b[1;32m    476\u001b[0m         \u001b[0;31m# have first part already, only loop while more to receive\u001b[0m\u001b[0;34m\u001b[0m\u001b[0;34m\u001b[0m\u001b[0;34m\u001b[0m\u001b[0m\n",
      "\u001b[0;32mzmq/backend/cython/socket.pyx\u001b[0m in \u001b[0;36mzmq.backend.cython.socket.Socket.recv\u001b[0;34m()\u001b[0m\n",
      "\u001b[0;32mzmq/backend/cython/socket.pyx\u001b[0m in \u001b[0;36mzmq.backend.cython.socket.Socket.recv\u001b[0;34m()\u001b[0m\n",
      "\u001b[0;32mzmq/backend/cython/socket.pyx\u001b[0m in \u001b[0;36mzmq.backend.cython.socket._recv_copy\u001b[0;34m()\u001b[0m\n",
      "\u001b[0;32m~/opt/anaconda3/lib/python3.7/site-packages/zmq/backend/cython/checkrc.pxd\u001b[0m in \u001b[0;36mzmq.backend.cython.checkrc._check_rc\u001b[0;34m()\u001b[0m\n",
      "\u001b[0;31mKeyboardInterrupt\u001b[0m: ",
      "\nDuring handling of the above exception, another exception occurred:\n",
      "\u001b[0;31mKeyboardInterrupt\u001b[0m                         Traceback (most recent call last)",
      "\u001b[0;32m<ipython-input-3-96066b7c4f93>\u001b[0m in \u001b[0;36m<module>\u001b[0;34m\u001b[0m\n\u001b[1;32m      3\u001b[0m \u001b[0;34m\u001b[0m\u001b[0m\n\u001b[1;32m      4\u001b[0m \u001b[0mapp\u001b[0m\u001b[0;34m.\u001b[0m\u001b[0mread_file\u001b[0m\u001b[0;34m(\u001b[0m\u001b[0;34m)\u001b[0m\u001b[0;34m\u001b[0m\u001b[0;34m\u001b[0m\u001b[0m\n\u001b[0;32m----> 5\u001b[0;31m \u001b[0mword\u001b[0m \u001b[0;34m=\u001b[0m \u001b[0mapp\u001b[0m\u001b[0;34m.\u001b[0m\u001b[0mcheck_your_vocabulary\u001b[0m\u001b[0;34m(\u001b[0m\u001b[0;34m)\u001b[0m\u001b[0;34m\u001b[0m\u001b[0;34m\u001b[0m\u001b[0m\n\u001b[0m",
      "\u001b[0;32m<ipython-input-2-61ee2fedcc06>\u001b[0m in \u001b[0;36mcheck_your_vocabulary\u001b[0;34m(self)\u001b[0m\n\u001b[1;32m    105\u001b[0m \u001b[0;34m\u001b[0m\u001b[0m\n\u001b[1;32m    106\u001b[0m         \u001b[0;32mwhile\u001b[0m \u001b[0;32mTrue\u001b[0m\u001b[0;34m:\u001b[0m\u001b[0;34m\u001b[0m\u001b[0;34m\u001b[0m\u001b[0m\n\u001b[0;32m--> 107\u001b[0;31m             \u001b[0mactivity\u001b[0m \u001b[0;34m=\u001b[0m \u001b[0mself\u001b[0m\u001b[0;34m.\u001b[0m\u001b[0mcheck_word\u001b[0m\u001b[0;34m(\u001b[0m\u001b[0;34m)\u001b[0m\u001b[0;34m\u001b[0m\u001b[0;34m\u001b[0m\u001b[0m\n\u001b[0m\u001b[1;32m    108\u001b[0m             \u001b[0mself\u001b[0m\u001b[0;34m.\u001b[0m\u001b[0mclient_activities\u001b[0m \u001b[0;34m+=\u001b[0m \u001b[0;34m[\u001b[0m\u001b[0mactivity\u001b[0m\u001b[0;34m]\u001b[0m\u001b[0;34m\u001b[0m\u001b[0;34m\u001b[0m\u001b[0m\n\u001b[1;32m    109\u001b[0m             \u001b[0manswer\u001b[0m \u001b[0;34m=\u001b[0m \u001b[0mself\u001b[0m\u001b[0;34m.\u001b[0m\u001b[0mcheck_if_answer_was_correct\u001b[0m\u001b[0;34m(\u001b[0m\u001b[0mquestion\u001b[0m\u001b[0;34m=\u001b[0m\u001b[0;34m'Continue?'\u001b[0m\u001b[0;34m)\u001b[0m\u001b[0;34m\u001b[0m\u001b[0;34m\u001b[0m\u001b[0m\n",
      "\u001b[0;32m<ipython-input-2-61ee2fedcc06>\u001b[0m in \u001b[0;36mcheck_word\u001b[0;34m(self, inverse)\u001b[0m\n\u001b[1;32m     68\u001b[0m         \u001b[0mstart\u001b[0m \u001b[0;34m=\u001b[0m \u001b[0mtime\u001b[0m\u001b[0;34m.\u001b[0m\u001b[0mtime\u001b[0m\u001b[0;34m(\u001b[0m\u001b[0;34m)\u001b[0m\u001b[0;34m\u001b[0m\u001b[0;34m\u001b[0m\u001b[0m\n\u001b[1;32m     69\u001b[0m         \u001b[0;32mwhile\u001b[0m \u001b[0;32mTrue\u001b[0m\u001b[0;34m:\u001b[0m\u001b[0;34m\u001b[0m\u001b[0;34m\u001b[0m\u001b[0m\n\u001b[0;32m---> 70\u001b[0;31m             \u001b[0mcheck_if_press_enter\u001b[0m \u001b[0;34m=\u001b[0m \u001b[0minput\u001b[0m\u001b[0;34m(\u001b[0m\u001b[0;34m)\u001b[0m\u001b[0;34m\u001b[0m\u001b[0;34m\u001b[0m\u001b[0m\n\u001b[0m\u001b[1;32m     71\u001b[0m             \u001b[0;32mbreak\u001b[0m\u001b[0;34m\u001b[0m\u001b[0;34m\u001b[0m\u001b[0m\n\u001b[1;32m     72\u001b[0m         \u001b[0mprint\u001b[0m\u001b[0;34m(\u001b[0m\u001b[0;34mf\"Translation is '{word}'.\"\u001b[0m\u001b[0;34m,\u001b[0m \u001b[0mend\u001b[0m\u001b[0;34m=\u001b[0m\u001b[0;34m' '\u001b[0m\u001b[0;34m)\u001b[0m\u001b[0;34m\u001b[0m\u001b[0;34m\u001b[0m\u001b[0m\n",
      "\u001b[0;32m~/opt/anaconda3/lib/python3.7/site-packages/ipykernel/kernelbase.py\u001b[0m in \u001b[0;36mraw_input\u001b[0;34m(self, prompt)\u001b[0m\n\u001b[1;32m    857\u001b[0m             \u001b[0mself\u001b[0m\u001b[0;34m.\u001b[0m\u001b[0m_parent_ident\u001b[0m\u001b[0;34m,\u001b[0m\u001b[0;34m\u001b[0m\u001b[0;34m\u001b[0m\u001b[0m\n\u001b[1;32m    858\u001b[0m             \u001b[0mself\u001b[0m\u001b[0;34m.\u001b[0m\u001b[0m_parent_header\u001b[0m\u001b[0;34m,\u001b[0m\u001b[0;34m\u001b[0m\u001b[0;34m\u001b[0m\u001b[0m\n\u001b[0;32m--> 859\u001b[0;31m             \u001b[0mpassword\u001b[0m\u001b[0;34m=\u001b[0m\u001b[0;32mFalse\u001b[0m\u001b[0;34m,\u001b[0m\u001b[0;34m\u001b[0m\u001b[0;34m\u001b[0m\u001b[0m\n\u001b[0m\u001b[1;32m    860\u001b[0m         )\n\u001b[1;32m    861\u001b[0m \u001b[0;34m\u001b[0m\u001b[0m\n",
      "\u001b[0;32m~/opt/anaconda3/lib/python3.7/site-packages/ipykernel/kernelbase.py\u001b[0m in \u001b[0;36m_input_request\u001b[0;34m(self, prompt, ident, parent, password)\u001b[0m\n\u001b[1;32m    887\u001b[0m             \u001b[0;32mexcept\u001b[0m \u001b[0mKeyboardInterrupt\u001b[0m\u001b[0;34m:\u001b[0m\u001b[0;34m\u001b[0m\u001b[0;34m\u001b[0m\u001b[0m\n\u001b[1;32m    888\u001b[0m                 \u001b[0;31m# re-raise KeyboardInterrupt, to truncate traceback\u001b[0m\u001b[0;34m\u001b[0m\u001b[0;34m\u001b[0m\u001b[0;34m\u001b[0m\u001b[0m\n\u001b[0;32m--> 889\u001b[0;31m                 \u001b[0;32mraise\u001b[0m \u001b[0mKeyboardInterrupt\u001b[0m\u001b[0;34m\u001b[0m\u001b[0;34m\u001b[0m\u001b[0m\n\u001b[0m\u001b[1;32m    890\u001b[0m             \u001b[0;32melse\u001b[0m\u001b[0;34m:\u001b[0m\u001b[0;34m\u001b[0m\u001b[0;34m\u001b[0m\u001b[0m\n\u001b[1;32m    891\u001b[0m                 \u001b[0;32mbreak\u001b[0m\u001b[0;34m\u001b[0m\u001b[0;34m\u001b[0m\u001b[0m\n",
      "\u001b[0;31mKeyboardInterrupt\u001b[0m: "
     ]
    }
   ],
   "source": [
    "vocabulary_name = 'Words.xlsx'\n",
    "app = App(vocabulary_name)\n",
    "\n",
    "app.read_file()\n",
    "word = app.check_your_vocabulary()"
   ]
  },
  {
   "cell_type": "code",
   "execution_count": 48,
   "metadata": {},
   "outputs": [],
   "source": [
    "def metric(x, x_last, x_critical):\n",
    "    if x >= 0:\n",
    "        if x >= x_last:\n",
    "            return 0\n",
    "        else:\n",
    "            if x < x_critical:\n",
    "                return -1 / (x_last * x_critical) * x**2 + 1\n",
    "            else:\n",
    "                return -x / x_last + 1\n",
    "    else:\n",
    "        return 1\n",
    "#         raise Exception('Unexpected time values < 0')"
   ]
  },
  {
   "cell_type": "code",
   "execution_count": 52,
   "metadata": {},
   "outputs": [
    {
     "data": {
      "image/png": "[encoded data removed]",
      "text/plain": [
       "<Figure size 432x288 with 1 Axes>"
      ]
     },
     "metadata": {
      "needs_background": "light"
     },
     "output_type": "display_data"
    }
   ],
   "source": [
    "import matplotlib.pyplot as plt\n",
    "\n",
    "x_last = 10\n",
    "mean = 4\n",
    "\n",
    "x = np.linspace(-1, 15)\n",
    "y = [metric(x_i, x_last, mean) for x_i in x]\n",
    "\n",
    "plt.plot(x, y)\n",
    "plt.show()"
   ]
  },
  {
   "cell_type": "code",
   "execution_count": null,
   "metadata": {},
   "outputs": [],
   "source": []
  },
  {
   "cell_type": "code",
   "execution_count": null,
   "metadata": {},
   "outputs": [],
   "source": []
  }
 ],
 "metadata": {
  "kernelspec": {
   "display_name": "Python 3",
   "language": "python",
   "name": "python3"
  },
  "language_info": {
   "codemirror_mode": {
    "name": "ipython",
    "version": 3
   },
   "file_extension": ".py",
   "mimetype": "text/x-python",
   "name": "python",
   "nbconvert_exporter": "python",
   "pygments_lexer": "ipython3",
   "version": "3.7.6"
  }
 },
 "nbformat": 4,
 "nbformat_minor": 4
}
