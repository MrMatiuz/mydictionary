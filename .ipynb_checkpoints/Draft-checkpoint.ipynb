{
 "cells": [
  {
   "cell_type": "code",
   "execution_count": 6,
   "metadata": {},
   "outputs": [],
   "source": [
    "import numpy as np\n",
    "import pandas as pd\n",
    "import random\n",
    "import time\n",
    "\n",
    "import csv\n",
    "import os\n",
    "# import keyboard"
   ]
  },
  {
   "cell_type": "code",
   "execution_count": 12,
   "metadata": {},
   "outputs": [],
   "source": [
    "class App:\n",
    "    def __init__(self, name):\n",
    "        self.name = name\n",
    "        self.df = None\n",
    "        self.activities_params = [\n",
    "            'id'\n",
    "            ,'Success'\n",
    "            ,'Elapsed_time'\n",
    "        ]\n",
    "        self.client_activities = []\n",
    "    \n",
    "    def read_file(self):\n",
    "        '''\n",
    "        Пока не будем работать с базой, будем брать весь датафрейм и его менять,\n",
    "        а потом просто перезаливать базу. Позже реализовать алгоритм, который будет выборочно либо добавлять,\n",
    "        либо перезаписывать данные по конекретным колонкам\n",
    "        '''\n",
    "        self.df = pd.read_excel(self.name)\n",
    "\n",
    "        self.df['Word'] = self.df['Word'].apply(lambda x: x.capitalize())\n",
    "        self.df['Translation'] = self.df['Translation'].apply(lambda x: x.capitalize())\n",
    "        self.df.fillna(0, inplace=True)\n",
    "        # df.to_excel('Words.xlsx')\n",
    "    #     df.to_csv('Words.csv', index=False, encoding='utf8')\n",
    "\n",
    "#         return self.df\n",
    "\n",
    "\n",
    "    def push_new_word(self):\n",
    "        word = input(\"Enter word: \")\n",
    "        translation = input(\"Enter translation: \")\n",
    "\n",
    "        \n",
    "    def get_word_and_translation(self):\n",
    "        word_and_translation = self.df.sample(n=1)\n",
    "        indx = word_and_translation.index\n",
    "        \n",
    "        return [\n",
    "            word_and_translation['id'].values[0]\n",
    "            ,word_and_translation['Word'].values[0]\n",
    "            ,word_and_translation['Translation'].values[0]\n",
    "        ]\n",
    "    \n",
    "    \n",
    "    def check_if_answer_was_correct(self, question):\n",
    "        answer = input(f\"{question} (y/n): \")\n",
    "        if answer == 'y':\n",
    "            return True\n",
    "        elif answer == 'n':\n",
    "            return False\n",
    "        else:\n",
    "            print(f\"Didn't get your answer '{answer}'. Try agane. \", end=\"\")\n",
    "            return self.check_if_answer_was_correct(question)\n",
    "    \n",
    "    \n",
    "    def check_word(self, inverse=False):\n",
    "        activity = dict(zip(\n",
    "            self.activities_params\n",
    "#             ,[np.nan,np.nan,np.nan]\n",
    "            ,[np.nan]*len(self.activities_params)\n",
    "        ))\n",
    "        \n",
    "        word_and_translation = self.get_word_and_translation()\n",
    "        indx = word_and_translation[0]\n",
    "        if inverse == True:\n",
    "            word, translation = word_and_translation[1::-1]\n",
    "        elif inverse == False:\n",
    "            word, translation = word_and_translation[1::]\n",
    "        else:\n",
    "            raise TypeError(\"Only booleans are allowed in inverse\")\n",
    "            \n",
    "        print(f\"Word is '{translation}'.\\nWhat is its translation? To see translation press Enter.\")\n",
    "        start = time.time()\n",
    "        while True:\n",
    "            check_if_press_enter = input()\n",
    "            break\n",
    "        print(f\"Translation is '{word}'.\", end=' ')\n",
    "        end = time.time()\n",
    "        elapsed_time = end - start # time to answer the question\n",
    "        \n",
    "        answer = self.check_if_answer_was_correct(question='Was your answer correct?')\n",
    "        \n",
    "        activity['id'] = indx\n",
    "        activity['Success'] = answer\n",
    "        activity['Elapsed_time'] = elapsed_time\n",
    "        \n",
    "        return activity\n",
    "\n",
    "#         # Correstion accuracy metric\n",
    "#         if answer == True:\n",
    "#             self.df.loc[indx, 'TriesNum'] += 1\n",
    "#             self.df.loc[indx, 'SuccessesNum'] += 1\n",
    "#         elif answer == False:\n",
    "#             self.df.loc[indx, 'TriesNum'] += 1\n",
    "#         self.df.loc[indx, 'Probability'] = 1 - self.df.loc[indx, 'SuccessesNum'] / self.df.loc[indx, 'TriesNum']\n",
    "                \n",
    "#         # Correction distibution params\n",
    "#         self.df.loc[indx, 'MeanTime'] = (\n",
    "#             (self.df.loc[indx, 'MeanTime'] * (self.df.loc[indx, 'TriesNum'] - 1) + elapsed_time) \\\n",
    "#             / self.df.loc[indx, 'TriesNum']\n",
    "#         )     \n",
    "#         if elapsed_time > self.df.loc[indx, 'MaxTime'].values[0]:\n",
    "#             self.df.loc[indx, 'MaxTime'] = elapsed_time\n",
    "#         elif elapsed_time < self.df.loc[indx, 'MinTime'].values[0]:\n",
    "#             self.df.loc[indx, 'MinTime'] = elapsed_time\n",
    "            \n",
    "    \n",
    "    def check_your_vocabulary(self):\n",
    "        print(f\"Let's start training!\")\n",
    "        \n",
    "        while True:\n",
    "            activity = self.check_word()\n",
    "            self.client_activities += [activity]\n",
    "            answer = self.check_if_answer_was_correct(question='Continue?')\n",
    "            if answer == False:\n",
    "                break\n",
    "        self.write_user_activities_logs(self.client_activities)\n",
    "\n",
    "    \n",
    "    def write_user_activities_logs(self, client_activities, file_name ='user_activities_logs.csv'):\n",
    "        isExist = os.path.exists('user_activities_logs.csv')\n",
    "        \n",
    "        with open(file_name, 'a') as f:\n",
    "            writer = csv.DictWriter(f, fieldnames=self.activities_params)\n",
    "            if isExist == False:\n",
    "                writer.writeheader()\n",
    "            \n",
    "            for row in client_activities:\n",
    "                writer.writerow(row)\n",
    "                \n",
    "            f.close()\n",
    "            \n",
    "    \n",
    "    def save_file(self):\n",
    "        self.df.to_excel(self.name)"
   ]
  },
  {
   "cell_type": "code",
   "execution_count": 14,
   "metadata": {},
   "outputs": [
    {
     "name": "stdout",
     "output_type": "stream",
     "text": [
      "Let's start training!\n",
      "Word is 'Уговорить кого-то от (делания) чего-то'.\n",
      "What is its translation? To see translation press Enter.\n",
      "\n",
      "Translation is 'To talk smbd in doing smth'. Was your answer correct? (y/n): n\n",
      "Continue? (y/n): y\n",
      "Word is 'Поймите меня правильно'.\n",
      "What is its translation? To see translation press Enter.\n",
      "\n",
      "Translation is 'Do not misunderstand me'. Was your answer correct? (y/n): n\n",
      "Continue? (y/n): n\n"
     ]
    }
   ],
   "source": [
    "vocabulary_name = 'Words.xlsx'\n",
    "app = App(vocabulary_name)\n",
    "\n",
    "app.read_file()\n",
    "word = app.check_your_vocabulary()\n"
   ]
  },
  {
   "cell_type": "code",
   "execution_count": null,
   "metadata": {},
   "outputs": [],
   "source": []
  },
  {
   "cell_type": "code",
   "execution_count": null,
   "metadata": {},
   "outputs": [],
   "source": []
  },
  {
   "cell_type": "code",
   "execution_count": null,
   "metadata": {},
   "outputs": [],
   "source": []
  },
  {
   "cell_type": "code",
   "execution_count": null,
   "metadata": {},
   "outputs": [],
   "source": []
  },
  {
   "cell_type": "markdown",
   "metadata": {},
   "source": [
    "## Old Method"
   ]
  },
  {
   "cell_type": "code",
   "execution_count": 1,
   "metadata": {
    "collapsed": true
   },
   "outputs": [
    {
     "name": "stdout",
     "output_type": "stream",
     "text": [
      "Running on all addresses.\n",
      "Use http://192.168.1.177:63377/ to access the application\n"
     ]
    },
    {
     "ename": "RuntimeError",
     "evalue": "This event loop is already running",
     "output_type": "error",
     "traceback": [
      "\u001b[0;31m---------------------------------------------------------------------------\u001b[0m",
      "\u001b[0;31mRuntimeError\u001b[0m                              Traceback (most recent call last)",
      "\u001b[0;32m<ipython-input-1-b14be4b638c7>\u001b[0m in \u001b[0;36m<module>\u001b[0;34m\u001b[0m\n\u001b[1;32m     22\u001b[0m \u001b[0;34m\u001b[0m\u001b[0m\n\u001b[1;32m     23\u001b[0m     \u001b[0;31m# if __name__ == '__main__':\u001b[0m\u001b[0;34m\u001b[0m\u001b[0;34m\u001b[0m\u001b[0;34m\u001b[0m\u001b[0m\n\u001b[0;32m---> 24\u001b[0;31m \u001b[0mstart_server\u001b[0m\u001b[0;34m(\u001b[0m\u001b[0mmain\u001b[0m\u001b[0;34m)\u001b[0m\u001b[0;34m\u001b[0m\u001b[0;34m\u001b[0m\u001b[0m\n\u001b[0m",
      "\u001b[0;32m~/opt/anaconda3/lib/python3.7/site-packages/pywebio/platform/tornado.py\u001b[0m in \u001b[0;36mstart_server\u001b[0;34m(applications, port, host, debug, cdn, static_dir, remote_access, reconnect_timeout, allowed_origins, check_origin, auto_open_webbrowser, max_payload_size, **tornado_app_settings)\u001b[0m\n\u001b[1;32m    382\u001b[0m         \u001b[0mstart_remote_access_service\u001b[0m\u001b[0;34m(\u001b[0m\u001b[0mlocal_port\u001b[0m\u001b[0;34m=\u001b[0m\u001b[0mport\u001b[0m\u001b[0;34m)\u001b[0m\u001b[0;34m\u001b[0m\u001b[0;34m\u001b[0m\u001b[0m\n\u001b[1;32m    383\u001b[0m \u001b[0;34m\u001b[0m\u001b[0m\n\u001b[0;32m--> 384\u001b[0;31m     \u001b[0mtornado\u001b[0m\u001b[0;34m.\u001b[0m\u001b[0mioloop\u001b[0m\u001b[0;34m.\u001b[0m\u001b[0mIOLoop\u001b[0m\u001b[0;34m.\u001b[0m\u001b[0mcurrent\u001b[0m\u001b[0;34m(\u001b[0m\u001b[0;34m)\u001b[0m\u001b[0;34m.\u001b[0m\u001b[0mstart\u001b[0m\u001b[0;34m(\u001b[0m\u001b[0;34m)\u001b[0m\u001b[0;34m\u001b[0m\u001b[0;34m\u001b[0m\u001b[0m\n\u001b[0m\u001b[1;32m    385\u001b[0m \u001b[0;34m\u001b[0m\u001b[0m\n\u001b[1;32m    386\u001b[0m \u001b[0;34m\u001b[0m\u001b[0m\n",
      "\u001b[0;32m~/opt/anaconda3/lib/python3.7/site-packages/tornado/platform/asyncio.py\u001b[0m in \u001b[0;36mstart\u001b[0;34m(self)\u001b[0m\n\u001b[1;32m    151\u001b[0m             \u001b[0mself\u001b[0m\u001b[0;34m.\u001b[0m\u001b[0m_setup_logging\u001b[0m\u001b[0;34m(\u001b[0m\u001b[0;34m)\u001b[0m\u001b[0;34m\u001b[0m\u001b[0;34m\u001b[0m\u001b[0m\n\u001b[1;32m    152\u001b[0m             \u001b[0masyncio\u001b[0m\u001b[0;34m.\u001b[0m\u001b[0mset_event_loop\u001b[0m\u001b[0;34m(\u001b[0m\u001b[0mself\u001b[0m\u001b[0;34m.\u001b[0m\u001b[0masyncio_loop\u001b[0m\u001b[0;34m)\u001b[0m\u001b[0;34m\u001b[0m\u001b[0;34m\u001b[0m\u001b[0m\n\u001b[0;32m--> 153\u001b[0;31m             \u001b[0mself\u001b[0m\u001b[0;34m.\u001b[0m\u001b[0masyncio_loop\u001b[0m\u001b[0;34m.\u001b[0m\u001b[0mrun_forever\u001b[0m\u001b[0;34m(\u001b[0m\u001b[0;34m)\u001b[0m\u001b[0;34m\u001b[0m\u001b[0;34m\u001b[0m\u001b[0m\n\u001b[0m\u001b[1;32m    154\u001b[0m         \u001b[0;32mfinally\u001b[0m\u001b[0;34m:\u001b[0m\u001b[0;34m\u001b[0m\u001b[0;34m\u001b[0m\u001b[0m\n\u001b[1;32m    155\u001b[0m             \u001b[0masyncio\u001b[0m\u001b[0;34m.\u001b[0m\u001b[0mset_event_loop\u001b[0m\u001b[0;34m(\u001b[0m\u001b[0mold_loop\u001b[0m\u001b[0;34m)\u001b[0m\u001b[0;34m\u001b[0m\u001b[0;34m\u001b[0m\u001b[0m\n",
      "\u001b[0;32m~/opt/anaconda3/lib/python3.7/asyncio/base_events.py\u001b[0m in \u001b[0;36mrun_forever\u001b[0;34m(self)\u001b[0m\n\u001b[1;32m    523\u001b[0m         \u001b[0mself\u001b[0m\u001b[0;34m.\u001b[0m\u001b[0m_check_closed\u001b[0m\u001b[0;34m(\u001b[0m\u001b[0;34m)\u001b[0m\u001b[0;34m\u001b[0m\u001b[0;34m\u001b[0m\u001b[0m\n\u001b[1;32m    524\u001b[0m         \u001b[0;32mif\u001b[0m \u001b[0mself\u001b[0m\u001b[0;34m.\u001b[0m\u001b[0mis_running\u001b[0m\u001b[0;34m(\u001b[0m\u001b[0;34m)\u001b[0m\u001b[0;34m:\u001b[0m\u001b[0;34m\u001b[0m\u001b[0;34m\u001b[0m\u001b[0m\n\u001b[0;32m--> 525\u001b[0;31m             \u001b[0;32mraise\u001b[0m \u001b[0mRuntimeError\u001b[0m\u001b[0;34m(\u001b[0m\u001b[0;34m'This event loop is already running'\u001b[0m\u001b[0;34m)\u001b[0m\u001b[0;34m\u001b[0m\u001b[0;34m\u001b[0m\u001b[0m\n\u001b[0m\u001b[1;32m    526\u001b[0m         \u001b[0;32mif\u001b[0m \u001b[0mevents\u001b[0m\u001b[0;34m.\u001b[0m\u001b[0m_get_running_loop\u001b[0m\u001b[0;34m(\u001b[0m\u001b[0;34m)\u001b[0m \u001b[0;32mis\u001b[0m \u001b[0;32mnot\u001b[0m \u001b[0;32mNone\u001b[0m\u001b[0;34m:\u001b[0m\u001b[0;34m\u001b[0m\u001b[0;34m\u001b[0m\u001b[0m\n\u001b[1;32m    527\u001b[0m             raise RuntimeError(\n",
      "\u001b[0;31mRuntimeError\u001b[0m: This event loop is already running"
     ]
    }
   ],
   "source": [
    "from pywebio import start_server, config\n",
    "from pywebio.output import *\n",
    "from pywebio.input import *\n",
    "from pywebio.pin import *\n",
    "\n",
    "def main():\n",
    "    data = pd.read_excel('Words.xlsx')\n",
    "\n",
    "    info = input_group('Add new Word', [\n",
    "    input('Word', type=TEXT, name='Word', required=True),\n",
    "    input('Translation', type=TEXT, name='Translation', required=True)\n",
    "#     actions('actions', [\n",
    "#         {'label': 'Save', 'value': 'save'},\n",
    "#         {'label': 'Save and add next', 'value': 'save_and_continue'},\n",
    "#         {'label': 'Reset', 'type': 'reset', 'color': 'warning'},\n",
    "#         {'label': 'Cancel', 'type': 'cancel', 'color': 'danger'},\n",
    "#     ], name='action', help_text='actions'),\n",
    "    ])\n",
    "    \n",
    "    put_table(list(data.values[:5]), header=list(data.columns),)\n",
    "#     put_button(\"click me\", onclick=lambda: print(2), color='success', outline=True)\n",
    "\n",
    "    # if __name__ == '__main__':\n",
    "start_server(main)"
   ]
  },
  {
   "cell_type": "code",
   "execution_count": null,
   "metadata": {},
   "outputs": [],
   "source": [
    "info = input_group('Add user', [\n",
    "    input('username', type=TEXT, name='username', required=True),\n",
    "    input('password', type=PASSWORD, name='password', required=True),\n",
    "    actions('actions', [\n",
    "        {'label': 'Save', 'value': 'save'},\n",
    "        {'label': 'Save and add next', 'value': 'save_and_continue'},\n",
    "        {'label': 'Reset', 'type': 'reset', 'color': 'warning'},\n",
    "        {'label': 'Cancel', 'type': 'cancel', 'color': 'danger'},\n",
    "    ], name='action', help_text='actions'),\n",
    "])\n",
    "put_code('info = ' + json.dumps(info, indent=4))\n",
    "if info is not None:\n",
    "    save_user(info['username'], info['password'])  \n",
    "    if info['action'] == 'save_and_continue':\n",
    "        add_next() "
   ]
  },
  {
   "cell_type": "code",
   "execution_count": null,
   "metadata": {
    "scrolled": true
   },
   "outputs": [],
   "source": [
    "from pywebio import start_server, config\n",
    "from pywebio.output import *\n",
    "from pywebio.input import *\n",
    "from pywebio.pin import *\n",
    "\n",
    "info = input_group('Add new Word', [\n",
    "    input('Word', type=TEXT, name='Word', required=True),\n",
    "    input('Translation', type=TEXT, name='Translation', required=True)\n",
    "#     actions('actions', [\n",
    "#         {'label': 'Save', 'value': 'save'},\n",
    "#         {'label': 'Save and add next', 'value': 'save_and_continue'},\n",
    "#         {'label': 'Reset', 'type': 'reset', 'color': 'warning'},\n",
    "#         {'label': 'Cancel', 'type': 'cancel', 'color': 'danger'},\n",
    "#     ], name='action', help_text='actions'),\n",
    "])"
   ]
  },
  {
   "cell_type": "code",
   "execution_count": 2,
   "metadata": {},
   "outputs": [
    {
     "data": {
      "text/plain": [
       "{'Word': 'a', 'Translation': 's'}"
      ]
     },
     "execution_count": 2,
     "metadata": {},
     "output_type": "execute_result"
    }
   ],
   "source": [
    "info"
   ]
  },
  {
   "cell_type": "code",
   "execution_count": 25,
   "metadata": {},
   "outputs": [
    {
     "data": {
      "text/plain": [
       "True"
      ]
     },
     "execution_count": 25,
     "metadata": {},
     "output_type": "execute_result"
    }
   ],
   "source": [
    "import pandas as pd\n",
    "\n",
    "df = pd.DataFrame([1,2,3,4,5,6], columns=['we'])\n",
    "\n",
    "sum([type(i) == int for i in df['we']]) == len(df['we'])"
   ]
  },
  {
   "cell_type": "code",
   "execution_count": null,
   "metadata": {},
   "outputs": [],
   "source": []
  }
 ],
 "metadata": {
  "kernelspec": {
   "display_name": "Python 3",
   "language": "python",
   "name": "python3"
  },
  "language_info": {
   "codemirror_mode": {
    "name": "ipython",
    "version": 3
   },
   "file_extension": ".py",
   "mimetype": "text/x-python",
   "name": "python",
   "nbconvert_exporter": "python",
   "pygments_lexer": "ipython3",
   "version": "3.7.6"
  }
 },
 "nbformat": 4,
 "nbformat_minor": 4
}
